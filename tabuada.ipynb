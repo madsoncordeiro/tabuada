{
  "nbformat": 4,
  "nbformat_minor": 0,
  "metadata": {
    "colab": {
      "provenance": [],
      "authorship_tag": "ABX9TyNtK1TCLs+8Li0+MAe/EArm"
    },
    "kernelspec": {
      "name": "python3",
      "display_name": "Python 3"
    },
    "language_info": {
      "name": "python"
    }
  },
  "cells": [
    {
      "cell_type": "code",
      "execution_count": 11,
      "metadata": {
        "colab": {
          "base_uri": "https://localhost:8080/"
        },
        "id": "V2QnxMDsA51z",
        "outputId": "4c1effc8-2def-4dc2-bceb-4f0356012935"
      },
      "outputs": [
        {
          "output_type": "stream",
          "name": "stdout",
          "text": [
            "----------------TABUADA--------------------\n",
            "Digite o número que você deseja realizar a tabuada: 7\n",
            "7  X  1  =  7\n",
            "7  X  2  =  14\n",
            "7  X  3  =  21\n",
            "7  X  4  =  28\n",
            "7  X  5  =  35\n",
            "7  X  6  =  42\n",
            "7  X  7  =  49\n",
            "7  X  8  =  56\n",
            "7  X  9  =  63\n"
          ]
        }
      ],
      "source": [
        "print(\"----------------TABUADA--------------------\")\n",
        "numero = int(input(\"Digite o número que você deseja realizar a tabuada: \"))\n",
        "for x in range(1,10):\n",
        "  print(numero, \" X \", x, \" = \", numero * x)"
      ]
    }
  ]
}